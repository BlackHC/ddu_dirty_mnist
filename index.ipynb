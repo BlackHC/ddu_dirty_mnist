{
 "cells": [
  {
   "cell_type": "markdown",
   "metadata": {},
   "source": [
    "# DDU's Dirty-MNIST\n",
    "\n",
    "> You'll never want to use MNIST again for OOD or AL."
   ]
  },
  {
   "cell_type": "markdown",
   "metadata": {},
   "source": [
    "[![arXiv](https://img.shields.io/badge/stat.ML-arXiv%3A2102.11582-B31B1B.svg)](https://arxiv.org/abs/2102.11582)\n",
    "[![Pytorch 1.8.1](https://img.shields.io/badge/pytorch-1.8.1-blue.svg)](https://pytorch.org/)\n",
    "[![License: Apache](https://img.shields.io/badge/License-MIT-yellow.svg)](https://github.com/BlackHC/ddu_dirty_mnist/blob/master/LICENSE)\n",
    "\n",
    "This repository contains the Dirty-MNIST dataset described in [*Deterministic Neural Networks with Appropriate Inductive Biases Capture Epistemic and Aleatoric Uncertainty*](https://arxiv.org/abs/2102.11582).\n",
    "\n",
    "The official repository for the paper is at https://github.com/omegafragger/DDU.\n",
    "\n",
    "If the code or the paper has been useful in your research, please add a citation to our work:\n",
    "\n",
    "```\n",
    "@article{mukhoti2021deterministic,\n",
    "  title={Deterministic Neural Networks with Appropriate Inductive Biases Capture Epistemic and Aleatoric Uncertainty},\n",
    "  author={Mukhoti, Jishnu and Kirsch, Andreas and van Amersfoort, Joost and Torr, Philip HS and Gal, Yarin},\n",
    "  journal={arXiv preprint arXiv:2102.11582},\n",
    "  year={2021}\n",
    "}\n",
    "```\n",
    "\n",
    "---"
   ]
  },
  {
   "cell_type": "markdown",
   "metadata": {},
   "source": [
    "## Install"
   ]
  },
  {
   "cell_type": "markdown",
   "metadata": {},
   "source": [
    "`pip install ddu_dirty_mnist`"
   ]
  },
  {
   "cell_type": "markdown",
   "metadata": {},
   "source": [
    "## How to use"
   ]
  },
  {
   "cell_type": "markdown",
   "metadata": {},
   "source": [
    "After installing, you get a Dirty-MNIST train or test set just like you would for MNIST in PyTorch."
   ]
  },
  {
   "cell_type": "code",
   "execution_count": null,
   "metadata": {},
   "outputs": [
    {
     "data": {
      "text/plain": [
       "(120000, 70000)"
      ]
     },
     "execution_count": null,
     "metadata": {},
     "output_type": "execute_result"
    }
   ],
   "source": [
    "# gpu\n",
    "\n",
    "import ddu_dirty_mnist\n",
    "\n",
    "dirty_mnist_train = ddu_dirty_mnist.DirtyMNIST(\".\", train=True, download=True, device=\"cuda\")\n",
    "dirty_mnist_test = ddu_dirty_mnist.DirtyMNIST(\".\", train=False, download=True, device=\"cuda\")\n",
    "len(dirty_mnist_train), len(dirty_mnist_test)"
   ]
  },
  {
   "cell_type": "markdown",
   "metadata": {},
   "source": [
    "Create `torch.utils.data.DataLoader`s with `num_workers=0, pin_memory=False` for maximum throughput, see [the documentation](01_dataloader.ipynb) for details."
   ]
  },
  {
   "cell_type": "code",
   "execution_count": null,
   "metadata": {},
   "outputs": [],
   "source": [
    "# gpu\n",
    "import torch\n",
    "\n",
    "dirty_mnist_train_dataloader = torch.utils.data.DataLoader(\n",
    "    dirty_mnist_train,\n",
    "    batch_size=128,\n",
    "    shuffle=True,\n",
    "    num_workers=0,\n",
    "    pin_memory=False,\n",
    ")\n",
    "dirty_mnist_test_dataloader = torch.utils.data.DataLoader(\n",
    "    dirty_mnist_test,\n",
    "    batch_size=128,\n",
    "    shuffle=False,\n",
    "    num_workers=0,\n",
    "    pin_memory=False,\n",
    ")"
   ]
  },
  {
   "cell_type": "markdown",
   "metadata": {},
   "source": [
    "### Ambiguous-MNIST\n",
    "\n",
    "If you only care about Ambiguous-MNIST, you can use:"
   ]
  },
  {
   "cell_type": "code",
   "execution_count": null,
   "metadata": {},
   "outputs": [
    {
     "data": {
      "text/plain": [
       "(Dataset AmbiguousMNIST\n",
       "     Number of datapoints: 60000\n",
       "     Root location: .,\n",
       " Dataset AmbiguousMNIST\n",
       "     Number of datapoints: 60000\n",
       "     Root location: .)"
      ]
     },
     "execution_count": null,
     "metadata": {},
     "output_type": "execute_result"
    }
   ],
   "source": [
    "# gpu\n",
    "\n",
    "import ddu_dirty_mnist\n",
    "\n",
    "ambiguous_mnist_train = ddu_dirty_mnist.AmbiguousMNIST(\".\", train=True, download=True, device=\"cuda\")\n",
    "ambiguous_mnist_test = ddu_dirty_mnist.AmbiguousMNIST(\".\", train=False, download=True, device=\"cuda\")\n",
    "\n",
    "ambiguous_mnist_train, ambiguous_mnist_test"
   ]
  },
  {
   "cell_type": "markdown",
   "metadata": {},
   "source": [
    "Again, create `torch.utils.data.DataLoader`s with `num_workers=0, pin_memory=False` for maximum throughput, see [the documentation](./dataloader.html) for details."
   ]
  },
  {
   "cell_type": "code",
   "execution_count": null,
   "metadata": {},
   "outputs": [],
   "source": [
    "# gpu\n",
    "import torch\n",
    "\n",
    "ambiguous_mnist_train_dataloader = torch.utils.data.DataLoader(\n",
    "    ambiguous_mnist_train,\n",
    "    batch_size=128,\n",
    "    shuffle=True,\n",
    "    num_workers=0,\n",
    "    pin_memory=False,\n",
    ")\n",
    "ambiguous_mnist_test_dataloader = torch.utils.data.DataLoader(\n",
    "    ambiguous_mnist_test,\n",
    "    batch_size=128,\n",
    "    shuffle=False,\n",
    "    num_workers=0,\n",
    "    pin_memory=False,\n",
    ")"
   ]
  },
  {
   "cell_type": "markdown",
   "metadata": {},
   "source": [
    "## Additional Guidance\n",
    "\n",
    "1. DirtyMNIST is a concatenation of MNIST + AmbiguousMNIST, with 60k samples each in the training set.\n",
    "1. The current AmbiguousMNIST contains 6k unique samples with 10 labels each. This multi-label dataset gets flattened to 60k samples. The assumption is that amibguous samples have multiple \"valid\" labels as they are ambiguous. MNIST samples are intentionally undersampled (in comparison), which benefits AL acquisition functions that can select unambiguous samples.\n",
    "1. Pick your initial training samples (for warm starting Active Learning) from the MNIST half of DirtyMNIST to avoid starting training with potentially very ambiguous samples, which might add a lot of variance to your experiments.\n",
    "1. Make sure to pick your validation set from the MNIST half as well, for the same reason as above.\n",
    "1. Make sure that your batch acquisition size is >= 10 (probably) given that there are 10 multi-labels per samples in Ambiguous-MNIST.\n",
    "1. By default, Gaussian noise with stddev 0.05 is added to each sample to prevent acquisition functions from cheating by disgarding \"duplicates\".\n",
    "1. If you want to split Ambiguous-MNIST into subsets (or Dirty-MNIST within the second ambiguous half), make sure to split by multiples of 10 to avoid splits within a flattened multi-label sample."
   ]
  },
  {
   "cell_type": "code",
   "execution_count": null,
   "metadata": {},
   "outputs": [],
   "source": []
  }
 ],
 "metadata": {
  "kernelspec": {
   "display_name": "Python [conda env:ddu_dirty_mnist]",
   "language": "python",
   "name": "conda-env-ddu_dirty_mnist-py"
  }
 },
 "nbformat": 4,
 "nbformat_minor": 4
}
