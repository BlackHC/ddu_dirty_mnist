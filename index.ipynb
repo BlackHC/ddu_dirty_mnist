{
 "cells": [
  {
   "cell_type": "markdown",
   "metadata": {},
   "source": [
    "# DDU's Dirty-MNIST\n",
    "\n",
    "> You'll never want to use MNIST again for OOD or AL.\n",
    "\n",
    "If you use Dirty-MNIST or Ambiguous-MNIST, please cite:\n",
    "```\n",
    "@article{mukhoti2021deterministic,\n",
    "  title={Deterministic Neural Networks with Appropriate Inductive Biases Capture Epistemic and Aleatoric Uncertainty},\n",
    "  author={Mukhoti, Jishnu and Kirsch, Andreas and van Amersfoort, Joost and Torr, Philip HS and Gal, Yarin},\n",
    "  journal={arXiv preprint arXiv:2102.11582},\n",
    "  year={2021}\n",
    "}\n",
    "```\n",
    "\n",
    "Find the arXiv paper here: https://arxiv.org/abs/2102.11582."
   ]
  },
  {
   "cell_type": "markdown",
   "metadata": {},
   "source": [
    "## Install"
   ]
  },
  {
   "cell_type": "markdown",
   "metadata": {},
   "source": [
    "`pip install ddu_dirty_mnist`"
   ]
  },
  {
   "cell_type": "markdown",
   "metadata": {},
   "source": [
    "## How to use"
   ]
  },
  {
   "cell_type": "markdown",
   "metadata": {},
   "source": [
    "After installing, you get a Dirty-MNIST train or test set just like you would for MNIST in PyTorch."
   ]
  },
  {
   "cell_type": "code",
   "execution_count": null,
   "metadata": {},
   "outputs": [
    {
     "data": {
      "text/plain": [
       "(120000, 30000)"
      ]
     },
     "execution_count": null,
     "metadata": {},
     "output_type": "execute_result"
    }
   ],
   "source": [
    "# gpu\n",
    "\n",
    "import ddu_dirty_mnist\n",
    "\n",
    "dirty_mnist_train = ddu_dirty_mnist.DirtyMNIST(\".\", train=True, download=True, device=\"cuda\")\n",
    "dirty_mnist_test = ddu_dirty_mnist.DirtyMNIST(\".\", train=False, download=True, device=\"cuda\")\n",
    "len(dirty_mnist_train), len(dirty_mnist_test)"
   ]
  },
  {
   "cell_type": "markdown",
   "metadata": {},
   "source": [
    "Here is how to create `torch.utils.data.DataLoader`, see [the documentation](./dataloader.html) for details."
   ]
  },
  {
   "cell_type": "code",
   "execution_count": null,
   "metadata": {},
   "outputs": [],
   "source": [
    "# gpu\n",
    "import torch\n",
    "\n",
    "dirty_mnist_train_dataloader = torch.utils.data.DataLoader(\n",
    "    dirty_mnist_train, batch_size=128, shuffle=True, num_workers=0, pin_memory=False\n",
    ")\n",
    "dirty_mnist_test_dataloader = torch.utils.data.DataLoader(\n",
    "    dirty_mnist_test, batch_size=128, shuffle=False, num_workers=0, pin_memory=False\n",
    ")"
   ]
  },
  {
   "cell_type": "markdown",
   "metadata": {},
   "source": [
    "If you only care about Ambiguous-MNIST, you can use:"
   ]
  },
  {
   "cell_type": "code",
   "execution_count": null,
   "metadata": {},
   "outputs": [
    {
     "data": {
      "text/plain": [
       "(Dataset AmbiguousMNIST\n",
       "     Number of datapoints: 60000\n",
       "     Root location: .,\n",
       " Dataset AmbiguousMNIST\n",
       "     Number of datapoints: 20000\n",
       "     Root location: .)"
      ]
     },
     "execution_count": null,
     "metadata": {},
     "output_type": "execute_result"
    }
   ],
   "source": [
    "# gpu\n",
    "\n",
    "import ddu_dirty_mnist\n",
    "\n",
    "ambiguous_mnist_train = ddu_dirty_mnist.AmbiguousMNIST(\".\", train=True, download=True, device=\"cuda\")\n",
    "ambiguous_mnist_test = ddu_dirty_mnist.AmbiguousMNIST(\".\", train=False, download=True, device=\"cuda\")\n",
    "\n",
    "ambiguous_mnist_train, ambiguous_mnist_test"
   ]
  },
  {
   "cell_type": "markdown",
   "metadata": {},
   "source": [
    "Here is how to create `torch.utils.data.DataLoader`, see [the documentation](./dataloader.html) for details."
   ]
  },
  {
   "cell_type": "code",
   "execution_count": null,
   "metadata": {},
   "outputs": [],
   "source": [
    "# gpu\n",
    "import torch\n",
    "\n",
    "ambiguous_mnist_train_dataloader = torch.utils.data.DataLoader(\n",
    "    ambiguous_mnist_train, batch_size=128, shuffle=True, num_workers=0, pin_memory=False\n",
    ")\n",
    "ambiguous_mnist_test_dataloader = torch.utils.data.DataLoader(\n",
    "    ambiguous_mnist_test, batch_size=128, shuffle=False, num_workers=0, pin_memory=False\n",
    ")"
   ]
  }
 ],
 "metadata": {
  "kernelspec": {
   "display_name": "Python [conda env:ddu_dirty_mnist]",
   "language": "python",
   "name": "conda-env-ddu_dirty_mnist-py"
  }
 },
 "nbformat": 4,
 "nbformat_minor": 4
}
